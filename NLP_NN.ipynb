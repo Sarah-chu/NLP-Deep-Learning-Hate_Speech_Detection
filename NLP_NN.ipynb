{
  "nbformat": 4,
  "nbformat_minor": 0,
  "metadata": {
    "accelerator": "GPU",
    "colab": {
      "name": "NLP_NN",
      "provenance": [],
      "collapsed_sections": [],
      "include_colab_link": true
    },
    "kernelspec": {
      "display_name": "Python 3",
      "name": "python3"
    }
  },
  "cells": [
    {
      "cell_type": "markdown",
      "metadata": {
        "id": "view-in-github",
        "colab_type": "text"
      },
      "source": [
        "<a href=\"https://colab.research.google.com/github/Sarah-chu/NLP-Deep-Learning-Hate_Speech_Detection/blob/main/NLP_NN.ipynb\" target=\"_parent\"><img src=\"https://colab.research.google.com/assets/colab-badge.svg\" alt=\"Open In Colab\"/></a>"
      ]
    },
    {
      "cell_type": "markdown",
      "metadata": {
        "id": "o7KG-NBdS--0"
      },
      "source": [
        "\r\n",
        "Put the required files in your Google drive.\r\n",
        "\r\n",
        "\r\n",
        "Once the data ready, mont your drive inside this notebook with following code : \r\n",
        "\r\n",
        "from google.colab import drive\r\n",
        "\r\n",
        "drive.mount('/gdrive')\r\n",
        "\r\n",
        "\r\n",
        "### reference : \r\n",
        "https://www.stackabuse.com/python-for-nlp-movie-sentiment-analysis-using-deep-learning-in-keras/ "
      ]
    },
    {
      "cell_type": "code",
      "metadata": {
        "id": "V_mqS_YD2mJB",
        "colab": {
          "base_uri": "https://localhost:8080/"
        },
        "outputId": "570fb087-d630-44e5-c9f6-41b2a67f4f53"
      },
      "source": [
        "from google.colab import drive\r\n",
        "drive.mount('/gdrive')"
      ],
      "execution_count": 1,
      "outputs": [
        {
          "output_type": "stream",
          "text": [
            "Drive already mounted at /gdrive; to attempt to forcibly remount, call drive.mount(\"/gdrive\", force_remount=True).\n"
          ],
          "name": "stdout"
        }
      ]
    },
    {
      "cell_type": "code",
      "metadata": {
        "colab": {
          "base_uri": "https://localhost:8080/"
        },
        "id": "YfZTCUmUcQTz",
        "outputId": "79b8ece2-a8a8-4a59-ec05-6ff50e663027"
      },
      "source": [
        "pip install keras_metrics"
      ],
      "execution_count": 2,
      "outputs": [
        {
          "output_type": "stream",
          "text": [
            "Requirement already satisfied: keras_metrics in /usr/local/lib/python3.6/dist-packages (1.1.0)\n",
            "Requirement already satisfied: Keras>=2.1.5 in /usr/local/lib/python3.6/dist-packages (from keras_metrics) (2.4.3)\n",
            "Requirement already satisfied: pyyaml in /usr/local/lib/python3.6/dist-packages (from Keras>=2.1.5->keras_metrics) (3.13)\n",
            "Requirement already satisfied: h5py in /usr/local/lib/python3.6/dist-packages (from Keras>=2.1.5->keras_metrics) (2.10.0)\n",
            "Requirement already satisfied: numpy>=1.9.1 in /usr/local/lib/python3.6/dist-packages (from Keras>=2.1.5->keras_metrics) (1.19.5)\n",
            "Requirement already satisfied: scipy>=0.14 in /usr/local/lib/python3.6/dist-packages (from Keras>=2.1.5->keras_metrics) (1.4.1)\n",
            "Requirement already satisfied: six in /usr/local/lib/python3.6/dist-packages (from h5py->Keras>=2.1.5->keras_metrics) (1.15.0)\n"
          ],
          "name": "stdout"
        }
      ]
    },
    {
      "cell_type": "markdown",
      "metadata": {
        "id": "9YOIKSGOuEjj"
      },
      "source": [
        "## Importing Required Libraries"
      ]
    },
    {
      "cell_type": "code",
      "metadata": {
        "id": "PjD3xioJ2m6M"
      },
      "source": [
        "import os\r\n",
        "import glob\r\n",
        "import numpy as np\r\n",
        "import pandas as pd\r\n",
        "from tensorflow.keras import layers\r\n",
        "from tensorflow import keras \r\n",
        "import tensorflow as tf\r\n",
        "import re\r\n",
        "import nltk\r\n",
        "from numpy import array\r\n",
        "\r\n",
        "import keras\r\n",
        "import keras_metrics as km\r\n",
        "from keras.preprocessing.text import one_hot\r\n",
        "from keras.preprocessing.sequence import pad_sequences\r\n",
        "from keras.models import Sequential\r\n",
        "from keras.layers.core import Activation, Dropout, Dense\r\n",
        "from keras.layers import Flatten\r\n",
        "from keras.layers import GlobalMaxPooling1D\r\n",
        "from keras.layers.embeddings import Embedding\r\n",
        "from tensorflow.keras.layers import LSTM\r\n",
        "from keras.preprocessing.text import Tokenizer\r\n",
        "\r\n",
        "from sklearn.feature_extraction.text import CountVectorizer\r\n",
        "from sklearn.linear_model import LogisticRegression\r\n",
        "from sklearn.model_selection import train_test_split\r\n",
        "from nltk.tokenize import RegexpTokenizer\r\n",
        "from nltk.corpus import stopwords\r\n",
        "import matplotlib.pyplot as plt\r\n",
        "%matplotlib inline\r\n"
      ],
      "execution_count": 3,
      "outputs": []
    },
    {
      "cell_type": "markdown",
      "metadata": {
        "id": "Ce5m0JgHuHrF"
      },
      "source": [
        "## Connecting to GPU"
      ]
    },
    {
      "cell_type": "code",
      "metadata": {
        "colab": {
          "base_uri": "https://localhost:8080/"
        },
        "id": "OsEE6Kap3Y4E",
        "outputId": "d32ae340-ea83-4d9a-b275-f0b404c65617"
      },
      "source": [
        "%tensorflow_version 2.x\r\n",
        "import tensorflow as tf\r\n",
        "device_name = tf.test.gpu_device_name()\r\n",
        "if device_name != '/device:GPU:0':\r\n",
        "  raise SystemError('GPU device not found')\r\n",
        "print('Found GPU at: {}'.format(device_name))"
      ],
      "execution_count": 4,
      "outputs": [
        {
          "output_type": "stream",
          "text": [
            "Found GPU at: /device:GPU:0\n"
          ],
          "name": "stdout"
        }
      ]
    },
    {
      "cell_type": "markdown",
      "metadata": {
        "id": "pMAM6Kk1uLXL"
      },
      "source": [
        "## Importing dataset"
      ]
    },
    {
      "cell_type": "code",
      "metadata": {
        "colab": {
          "base_uri": "https://localhost:8080/"
        },
        "id": "Ho41MjshT0pV",
        "outputId": "3cbeadfa-ee6e-4960-b103-995438280436"
      },
      "source": [
        "nltk.download('stopwords')"
      ],
      "execution_count": 5,
      "outputs": [
        {
          "output_type": "stream",
          "text": [
            "[nltk_data] Downloading package stopwords to /root/nltk_data...\n",
            "[nltk_data]   Package stopwords is already up-to-date!\n"
          ],
          "name": "stdout"
        },
        {
          "output_type": "execute_result",
          "data": {
            "text/plain": [
              "True"
            ]
          },
          "metadata": {
            "tags": []
          },
          "execution_count": 5
        }
      ]
    },
    {
      "cell_type": "code",
      "metadata": {
        "id": "oBITEV-tSt1w"
      },
      "source": [
        "data_dir  = \"/gdrive/MyDrive/AI_and_Big_Data_Project/Dataset1_labeled_data.csv\""
      ],
      "execution_count": 7,
      "outputs": []
    },
    {
      "cell_type": "code",
      "metadata": {
        "id": "CijAKJR7QtFB"
      },
      "source": [
        "data_dir  = \"/gdrive/MyDrive/career/master_in_france/course/AI_and_Big_Data_Project/Dataset1_labeled_data.csv\""
      ],
      "execution_count": 6,
      "outputs": []
    },
    {
      "cell_type": "code",
      "metadata": {
        "id": "UVKLvEHSR3UB"
      },
      "source": [
        "data = pd.read_csv(data_dir)"
      ],
      "execution_count": 7,
      "outputs": []
    },
    {
      "cell_type": "code",
      "metadata": {
        "colab": {
          "base_uri": "https://localhost:8080/",
          "height": 195
        },
        "id": "-EIkaK9dSIqh",
        "outputId": "4a306afe-0cfd-4502-c96c-cd2005191206"
      },
      "source": [
        "data.head()"
      ],
      "execution_count": 8,
      "outputs": [
        {
          "output_type": "execute_result",
          "data": {
            "text/html": [
              "<div>\n",
              "<style scoped>\n",
              "    .dataframe tbody tr th:only-of-type {\n",
              "        vertical-align: middle;\n",
              "    }\n",
              "\n",
              "    .dataframe tbody tr th {\n",
              "        vertical-align: top;\n",
              "    }\n",
              "\n",
              "    .dataframe thead th {\n",
              "        text-align: right;\n",
              "    }\n",
              "</style>\n",
              "<table border=\"1\" class=\"dataframe\">\n",
              "  <thead>\n",
              "    <tr style=\"text-align: right;\">\n",
              "      <th></th>\n",
              "      <th>Unnamed: 0</th>\n",
              "      <th>count</th>\n",
              "      <th>hate_speech</th>\n",
              "      <th>offensive_language</th>\n",
              "      <th>neither</th>\n",
              "      <th>class</th>\n",
              "      <th>tweet</th>\n",
              "    </tr>\n",
              "  </thead>\n",
              "  <tbody>\n",
              "    <tr>\n",
              "      <th>0</th>\n",
              "      <td>0</td>\n",
              "      <td>3</td>\n",
              "      <td>0</td>\n",
              "      <td>0</td>\n",
              "      <td>3</td>\n",
              "      <td>2</td>\n",
              "      <td>!!! RT @mayasolovely: As a woman you shouldn't...</td>\n",
              "    </tr>\n",
              "    <tr>\n",
              "      <th>1</th>\n",
              "      <td>1</td>\n",
              "      <td>3</td>\n",
              "      <td>0</td>\n",
              "      <td>3</td>\n",
              "      <td>0</td>\n",
              "      <td>1</td>\n",
              "      <td>!!!!! RT @mleew17: boy dats cold...tyga dwn ba...</td>\n",
              "    </tr>\n",
              "    <tr>\n",
              "      <th>2</th>\n",
              "      <td>2</td>\n",
              "      <td>3</td>\n",
              "      <td>0</td>\n",
              "      <td>3</td>\n",
              "      <td>0</td>\n",
              "      <td>1</td>\n",
              "      <td>!!!!!!! RT @UrKindOfBrand Dawg!!!! RT @80sbaby...</td>\n",
              "    </tr>\n",
              "    <tr>\n",
              "      <th>3</th>\n",
              "      <td>3</td>\n",
              "      <td>3</td>\n",
              "      <td>0</td>\n",
              "      <td>2</td>\n",
              "      <td>1</td>\n",
              "      <td>1</td>\n",
              "      <td>!!!!!!!!! RT @C_G_Anderson: @viva_based she lo...</td>\n",
              "    </tr>\n",
              "    <tr>\n",
              "      <th>4</th>\n",
              "      <td>4</td>\n",
              "      <td>6</td>\n",
              "      <td>0</td>\n",
              "      <td>6</td>\n",
              "      <td>0</td>\n",
              "      <td>1</td>\n",
              "      <td>!!!!!!!!!!!!! RT @ShenikaRoberts: The shit you...</td>\n",
              "    </tr>\n",
              "  </tbody>\n",
              "</table>\n",
              "</div>"
            ],
            "text/plain": [
              "   Unnamed: 0  count  ...  class                                              tweet\n",
              "0           0      3  ...      2  !!! RT @mayasolovely: As a woman you shouldn't...\n",
              "1           1      3  ...      1  !!!!! RT @mleew17: boy dats cold...tyga dwn ba...\n",
              "2           2      3  ...      1  !!!!!!! RT @UrKindOfBrand Dawg!!!! RT @80sbaby...\n",
              "3           3      3  ...      1  !!!!!!!!! RT @C_G_Anderson: @viva_based she lo...\n",
              "4           4      6  ...      1  !!!!!!!!!!!!! RT @ShenikaRoberts: The shit you...\n",
              "\n",
              "[5 rows x 7 columns]"
            ]
          },
          "metadata": {
            "tags": []
          },
          "execution_count": 8
        }
      ]
    },
    {
      "cell_type": "markdown",
      "metadata": {
        "id": "vNOTtoxquRx7"
      },
      "source": [
        "## Data Preprocessing"
      ]
    },
    {
      "cell_type": "code",
      "metadata": {
        "id": "B1agNSYKSc7W"
      },
      "source": [
        "# Create functions\r\n",
        "\r\n",
        "def remove_links(tweet):\r\n",
        "    '''Takes a string and removes web links from it'''\r\n",
        "    tweet = re.sub(r'http\\S+', '', tweet) # remove http links\r\n",
        "    tweet = re.sub(r'bit.ly/\\S+', '', tweet) # rempve bitly links\r\n",
        "    tweet = tweet.strip('[link]') # remove [links]\r\n",
        "    return tweet\r\n",
        "\r\n",
        "def remove_users(tweet):\r\n",
        "    '''Takes a string and removes retweet and @user information'''\r\n",
        "    tweet = re.sub('(RT\\s@[A-Za-z0-9-_]+[A-Za-z0-9-_]+)', '', tweet) # remove retweet\r\n",
        "    tweet = re.sub('(@[A-Za-z0-9-_]+[A-Za-z0-9-_]+)', '', tweet) # remove tweeted at\r\n",
        "    return tweet"
      ],
      "execution_count": 9,
      "outputs": []
    },
    {
      "cell_type": "code",
      "metadata": {
        "id": "_E30AyrhTi_o"
      },
      "source": [
        "my_stopwords = nltk.corpus.stopwords.words('english')\r\n",
        "word_rooter = nltk.stem.snowball.PorterStemmer(ignore_stopwords=False).stem\r\n",
        "my_punctuation = '!\"$%&\\'()*+,-./:;<=>?[\\\\]\\\\\\\\\\^_`{|}~•@#'\r\n",
        "\r\n",
        "# cleaning master function\r\n",
        "def clean_tweet(tweet, bigrams=False):\r\n",
        "    tweet = remove_users(tweet)\r\n",
        "    tweet = remove_links(tweet)\r\n",
        "    tweet = tweet.lower() # lower case\r\n",
        "    tweet = re.sub('['+my_punctuation + ']+', ' ', tweet) # strip punctuation\r\n",
        "    tweet = re.sub('\\s+', ' ', tweet) #remove double spacing\r\n",
        "    tweet = re.sub('([0-9]+)', '', tweet) # remove numbers\r\n",
        "    tweet = re.sub('amp', '', tweet) # remove amp\r\n",
        "    tweet = re.sub(r'\\s+', ' ', tweet) # remove multiple spaces\r\n",
        "    tweet_token_list = [word for word in tweet.split(' ')\r\n",
        "                            if word not in my_stopwords] # remove stopwords\r\n",
        "\r\n",
        "    tweet_token_list = [word_rooter(word) if '#' not in word else word\r\n",
        "                        for word in tweet_token_list] # apply word rooter\r\n",
        "    if bigrams:\r\n",
        "        tweet_token_list = tweet_token_list+[tweet_token_list[i]+'_'+tweet_token_list[i+1]\r\n",
        "                                            for i in range(len(tweet_token_list)-1)]\r\n",
        "    tweet = ' '.join(tweet_token_list)\r\n",
        "    return tweet"
      ],
      "execution_count": 10,
      "outputs": []
    },
    {
      "cell_type": "code",
      "metadata": {
        "colab": {
          "base_uri": "https://localhost:8080/",
          "height": 1000
        },
        "id": "aLznSGGPTj25",
        "outputId": "c283dd56-0da9-40c3-f191-b7985aff4f35"
      },
      "source": [
        "data['clean_tweet'] = data.tweet.apply(clean_tweet)\r\n",
        "data.head(30)"
      ],
      "execution_count": 11,
      "outputs": [
        {
          "output_type": "execute_result",
          "data": {
            "text/html": [
              "<div>\n",
              "<style scoped>\n",
              "    .dataframe tbody tr th:only-of-type {\n",
              "        vertical-align: middle;\n",
              "    }\n",
              "\n",
              "    .dataframe tbody tr th {\n",
              "        vertical-align: top;\n",
              "    }\n",
              "\n",
              "    .dataframe thead th {\n",
              "        text-align: right;\n",
              "    }\n",
              "</style>\n",
              "<table border=\"1\" class=\"dataframe\">\n",
              "  <thead>\n",
              "    <tr style=\"text-align: right;\">\n",
              "      <th></th>\n",
              "      <th>Unnamed: 0</th>\n",
              "      <th>count</th>\n",
              "      <th>hate_speech</th>\n",
              "      <th>offensive_language</th>\n",
              "      <th>neither</th>\n",
              "      <th>class</th>\n",
              "      <th>tweet</th>\n",
              "      <th>clean_tweet</th>\n",
              "    </tr>\n",
              "  </thead>\n",
              "  <tbody>\n",
              "    <tr>\n",
              "      <th>0</th>\n",
              "      <td>0</td>\n",
              "      <td>3</td>\n",
              "      <td>0</td>\n",
              "      <td>0</td>\n",
              "      <td>3</td>\n",
              "      <td>2</td>\n",
              "      <td>!!! RT @mayasolovely: As a woman you shouldn't...</td>\n",
              "      <td>woman complain clean hous man alway take trash</td>\n",
              "    </tr>\n",
              "    <tr>\n",
              "      <th>1</th>\n",
              "      <td>1</td>\n",
              "      <td>3</td>\n",
              "      <td>0</td>\n",
              "      <td>3</td>\n",
              "      <td>0</td>\n",
              "      <td>1</td>\n",
              "      <td>!!!!! RT @mleew17: boy dats cold...tyga dwn ba...</td>\n",
              "      <td>boy dat cold tyga dwn bad cuffin dat hoe st p...</td>\n",
              "    </tr>\n",
              "    <tr>\n",
              "      <th>2</th>\n",
              "      <td>2</td>\n",
              "      <td>3</td>\n",
              "      <td>0</td>\n",
              "      <td>3</td>\n",
              "      <td>0</td>\n",
              "      <td>1</td>\n",
              "      <td>!!!!!!! RT @UrKindOfBrand Dawg!!!! RT @80sbaby...</td>\n",
              "      <td>dawg ever fuck bitch start cri confus shit</td>\n",
              "    </tr>\n",
              "    <tr>\n",
              "      <th>3</th>\n",
              "      <td>3</td>\n",
              "      <td>3</td>\n",
              "      <td>0</td>\n",
              "      <td>2</td>\n",
              "      <td>1</td>\n",
              "      <td>1</td>\n",
              "      <td>!!!!!!!!! RT @C_G_Anderson: @viva_based she lo...</td>\n",
              "      <td>look like tranni</td>\n",
              "    </tr>\n",
              "    <tr>\n",
              "      <th>4</th>\n",
              "      <td>4</td>\n",
              "      <td>6</td>\n",
              "      <td>0</td>\n",
              "      <td>6</td>\n",
              "      <td>0</td>\n",
              "      <td>1</td>\n",
              "      <td>!!!!!!!!!!!!! RT @ShenikaRoberts: The shit you...</td>\n",
              "      <td>shit hear might true might faker bitch told ya</td>\n",
              "    </tr>\n",
              "    <tr>\n",
              "      <th>5</th>\n",
              "      <td>5</td>\n",
              "      <td>3</td>\n",
              "      <td>1</td>\n",
              "      <td>2</td>\n",
              "      <td>0</td>\n",
              "      <td>1</td>\n",
              "      <td>!!!!!!!!!!!!!!!!!!\"@T_Madison_x: The shit just...</td>\n",
              "      <td>shit blow claim faith somebodi still fuck hoe</td>\n",
              "    </tr>\n",
              "    <tr>\n",
              "      <th>6</th>\n",
              "      <td>6</td>\n",
              "      <td>3</td>\n",
              "      <td>0</td>\n",
              "      <td>3</td>\n",
              "      <td>0</td>\n",
              "      <td>1</td>\n",
              "      <td>!!!!!!\"@__BrighterDays: I can not just sit up ...</td>\n",
              "      <td>sit hate anoth bitch got much shit go</td>\n",
              "    </tr>\n",
              "    <tr>\n",
              "      <th>7</th>\n",
              "      <td>7</td>\n",
              "      <td>3</td>\n",
              "      <td>0</td>\n",
              "      <td>3</td>\n",
              "      <td>0</td>\n",
              "      <td>1</td>\n",
              "      <td>!!!!&amp;#8220;@selfiequeenbri: cause I'm tired of...</td>\n",
              "      <td>caus tire big bitch come us skinni girl</td>\n",
              "    </tr>\n",
              "    <tr>\n",
              "      <th>8</th>\n",
              "      <td>8</td>\n",
              "      <td>3</td>\n",
              "      <td>0</td>\n",
              "      <td>3</td>\n",
              "      <td>0</td>\n",
              "      <td>1</td>\n",
              "      <td>\" &amp;amp; you might not get ya bitch back &amp;amp; ...</td>\n",
              "      <td>might get ya bitch back that</td>\n",
              "    </tr>\n",
              "    <tr>\n",
              "      <th>9</th>\n",
              "      <td>9</td>\n",
              "      <td>3</td>\n",
              "      <td>1</td>\n",
              "      <td>2</td>\n",
              "      <td>0</td>\n",
              "      <td>1</td>\n",
              "      <td>\" @rhythmixx_ :hobbies include: fighting Maria...</td>\n",
              "      <td>hobbi includ fight mariam bitch</td>\n",
              "    </tr>\n",
              "    <tr>\n",
              "      <th>10</th>\n",
              "      <td>10</td>\n",
              "      <td>3</td>\n",
              "      <td>0</td>\n",
              "      <td>3</td>\n",
              "      <td>0</td>\n",
              "      <td>1</td>\n",
              "      <td>\" Keeks is a bitch she curves everyone \" lol I...</td>\n",
              "      <td>keek bitch curv everyon lol walk convers like...</td>\n",
              "    </tr>\n",
              "    <tr>\n",
              "      <th>11</th>\n",
              "      <td>11</td>\n",
              "      <td>3</td>\n",
              "      <td>0</td>\n",
              "      <td>3</td>\n",
              "      <td>0</td>\n",
              "      <td>1</td>\n",
              "      <td>\" Murda Gang bitch its Gang Land \"</td>\n",
              "      <td>murda gang bitch gang land</td>\n",
              "    </tr>\n",
              "    <tr>\n",
              "      <th>12</th>\n",
              "      <td>12</td>\n",
              "      <td>3</td>\n",
              "      <td>0</td>\n",
              "      <td>2</td>\n",
              "      <td>1</td>\n",
              "      <td>1</td>\n",
              "      <td>\" So hoes that smoke are losers ? \" yea ... go...</td>\n",
              "      <td>hoe smoke loser yea go ig</td>\n",
              "    </tr>\n",
              "    <tr>\n",
              "      <th>13</th>\n",
              "      <td>13</td>\n",
              "      <td>3</td>\n",
              "      <td>0</td>\n",
              "      <td>3</td>\n",
              "      <td>0</td>\n",
              "      <td>1</td>\n",
              "      <td>\" bad bitches is the only thing that i like \"</td>\n",
              "      <td>bad bitch thing like</td>\n",
              "    </tr>\n",
              "    <tr>\n",
              "      <th>14</th>\n",
              "      <td>14</td>\n",
              "      <td>3</td>\n",
              "      <td>1</td>\n",
              "      <td>2</td>\n",
              "      <td>0</td>\n",
              "      <td>1</td>\n",
              "      <td>\" bitch get up off me \"</td>\n",
              "      <td>bitch get</td>\n",
              "    </tr>\n",
              "    <tr>\n",
              "      <th>15</th>\n",
              "      <td>15</td>\n",
              "      <td>3</td>\n",
              "      <td>0</td>\n",
              "      <td>3</td>\n",
              "      <td>0</td>\n",
              "      <td>1</td>\n",
              "      <td>\" bitch nigga miss me with it \"</td>\n",
              "      <td>bitch nigga miss</td>\n",
              "    </tr>\n",
              "    <tr>\n",
              "      <th>16</th>\n",
              "      <td>16</td>\n",
              "      <td>3</td>\n",
              "      <td>0</td>\n",
              "      <td>3</td>\n",
              "      <td>0</td>\n",
              "      <td>1</td>\n",
              "      <td>\" bitch plz whatever \"</td>\n",
              "      <td>bitch plz whatev</td>\n",
              "    </tr>\n",
              "    <tr>\n",
              "      <th>17</th>\n",
              "      <td>17</td>\n",
              "      <td>3</td>\n",
              "      <td>1</td>\n",
              "      <td>2</td>\n",
              "      <td>0</td>\n",
              "      <td>1</td>\n",
              "      <td>\" bitch who do you love \"</td>\n",
              "      <td>bitch love</td>\n",
              "    </tr>\n",
              "    <tr>\n",
              "      <th>18</th>\n",
              "      <td>18</td>\n",
              "      <td>3</td>\n",
              "      <td>0</td>\n",
              "      <td>3</td>\n",
              "      <td>0</td>\n",
              "      <td>1</td>\n",
              "      <td>\" bitches get cut off everyday B \"</td>\n",
              "      <td>bitch get cut everyday b</td>\n",
              "    </tr>\n",
              "    <tr>\n",
              "      <th>19</th>\n",
              "      <td>19</td>\n",
              "      <td>3</td>\n",
              "      <td>0</td>\n",
              "      <td>3</td>\n",
              "      <td>0</td>\n",
              "      <td>1</td>\n",
              "      <td>\" black bottle &amp;amp; a bad bitch \"</td>\n",
              "      <td>black bottl bad bitch</td>\n",
              "    </tr>\n",
              "    <tr>\n",
              "      <th>20</th>\n",
              "      <td>20</td>\n",
              "      <td>3</td>\n",
              "      <td>0</td>\n",
              "      <td>3</td>\n",
              "      <td>0</td>\n",
              "      <td>1</td>\n",
              "      <td>\" broke bitch cant tell me nothing \"</td>\n",
              "      <td>broke bitch cant tell noth</td>\n",
              "    </tr>\n",
              "    <tr>\n",
              "      <th>21</th>\n",
              "      <td>21</td>\n",
              "      <td>3</td>\n",
              "      <td>0</td>\n",
              "      <td>3</td>\n",
              "      <td>0</td>\n",
              "      <td>1</td>\n",
              "      <td>\" cancel that bitch like Nino \"</td>\n",
              "      <td>cancel bitch like nino</td>\n",
              "    </tr>\n",
              "    <tr>\n",
              "      <th>22</th>\n",
              "      <td>22</td>\n",
              "      <td>3</td>\n",
              "      <td>0</td>\n",
              "      <td>3</td>\n",
              "      <td>0</td>\n",
              "      <td>1</td>\n",
              "      <td>\" cant you see these hoes wont change \"</td>\n",
              "      <td>cant see hoe wont chang</td>\n",
              "    </tr>\n",
              "    <tr>\n",
              "      <th>23</th>\n",
              "      <td>23</td>\n",
              "      <td>3</td>\n",
              "      <td>0</td>\n",
              "      <td>3</td>\n",
              "      <td>0</td>\n",
              "      <td>1</td>\n",
              "      <td>\" fuck no that bitch dont even suck dick \" &amp;#1...</td>\n",
              "      <td>fuck bitch dont even suck dick kermit video b...</td>\n",
              "    </tr>\n",
              "    <tr>\n",
              "      <th>24</th>\n",
              "      <td>24</td>\n",
              "      <td>3</td>\n",
              "      <td>0</td>\n",
              "      <td>3</td>\n",
              "      <td>0</td>\n",
              "      <td>1</td>\n",
              "      <td>\" got ya bitch tip toeing on my hardwood floor...</td>\n",
              "      <td>got ya bitch tip toe hardwood floor</td>\n",
              "    </tr>\n",
              "    <tr>\n",
              "      <th>25</th>\n",
              "      <td>25</td>\n",
              "      <td>3</td>\n",
              "      <td>0</td>\n",
              "      <td>2</td>\n",
              "      <td>1</td>\n",
              "      <td>1</td>\n",
              "      <td>\" her pussy lips like Heaven doors \" &amp;#128524;</td>\n",
              "      <td>pussi lip like heaven door</td>\n",
              "    </tr>\n",
              "    <tr>\n",
              "      <th>26</th>\n",
              "      <td>26</td>\n",
              "      <td>3</td>\n",
              "      <td>0</td>\n",
              "      <td>3</td>\n",
              "      <td>0</td>\n",
              "      <td>1</td>\n",
              "      <td>\" hoe what its hitting for \"</td>\n",
              "      <td>hoe hit</td>\n",
              "    </tr>\n",
              "    <tr>\n",
              "      <th>27</th>\n",
              "      <td>27</td>\n",
              "      <td>3</td>\n",
              "      <td>0</td>\n",
              "      <td>3</td>\n",
              "      <td>0</td>\n",
              "      <td>1</td>\n",
              "      <td>\" i met that pussy on Ocean Dr . i gave that p...</td>\n",
              "      <td>met pussi ocean dr gave pussi pill</td>\n",
              "    </tr>\n",
              "    <tr>\n",
              "      <th>28</th>\n",
              "      <td>28</td>\n",
              "      <td>3</td>\n",
              "      <td>0</td>\n",
              "      <td>3</td>\n",
              "      <td>0</td>\n",
              "      <td>1</td>\n",
              "      <td>\" i need a trippy bitch who fuck on Hennessy \"</td>\n",
              "      <td>need trippi bitch fuck hennessi</td>\n",
              "    </tr>\n",
              "    <tr>\n",
              "      <th>29</th>\n",
              "      <td>29</td>\n",
              "      <td>3</td>\n",
              "      <td>0</td>\n",
              "      <td>3</td>\n",
              "      <td>0</td>\n",
              "      <td>1</td>\n",
              "      <td>\" i spend my money how i want bitch its my bus...</td>\n",
              "      <td>spend money want bitch busi</td>\n",
              "    </tr>\n",
              "  </tbody>\n",
              "</table>\n",
              "</div>"
            ],
            "text/plain": [
              "    Unnamed: 0  ...                                        clean_tweet\n",
              "0            0  ...    woman complain clean hous man alway take trash \n",
              "1            1  ...   boy dat cold tyga dwn bad cuffin dat hoe st p...\n",
              "2            2  ...         dawg ever fuck bitch start cri confus shit\n",
              "3            3  ...                                   look like tranni\n",
              "4            4  ...    shit hear might true might faker bitch told ya \n",
              "5            5  ...     shit blow claim faith somebodi still fuck hoe \n",
              "6            6  ...             sit hate anoth bitch got much shit go \n",
              "7            7  ...           caus tire big bitch come us skinni girl \n",
              "8            8  ...                      might get ya bitch back that \n",
              "9            9  ...                    hobbi includ fight mariam bitch\n",
              "10          10  ...   keek bitch curv everyon lol walk convers like...\n",
              "11          11  ...                        murda gang bitch gang land \n",
              "12          12  ...                          hoe smoke loser yea go ig\n",
              "13          13  ...                              bad bitch thing like \n",
              "14          14  ...                                         bitch get \n",
              "15          15  ...                                  bitch nigga miss \n",
              "16          16  ...                                  bitch plz whatev \n",
              "17          17  ...                                        bitch love \n",
              "18          18  ...                          bitch get cut everyday b \n",
              "19          19  ...                             black bottl bad bitch \n",
              "20          20  ...                        broke bitch cant tell noth \n",
              "21          21  ...                            cancel bitch like nino \n",
              "22          22  ...                           cant see hoe wont chang \n",
              "23          23  ...   fuck bitch dont even suck dick kermit video b...\n",
              "24          24  ...               got ya bitch tip toe hardwood floor \n",
              "25          25  ...                        pussi lip like heaven door \n",
              "26          26  ...                                           hoe hit \n",
              "27          27  ...                met pussi ocean dr gave pussi pill \n",
              "28          28  ...                   need trippi bitch fuck hennessi \n",
              "29          29  ...                       spend money want bitch busi \n",
              "\n",
              "[30 rows x 8 columns]"
            ]
          },
          "metadata": {
            "tags": []
          },
          "execution_count": 11
        }
      ]
    },
    {
      "cell_type": "markdown",
      "metadata": {
        "id": "R-zIWsTjuWS4"
      },
      "source": [
        "## Train-test Split"
      ]
    },
    {
      "cell_type": "code",
      "metadata": {
        "id": "TNTSHWvCF3FC"
      },
      "source": [
        "X = []\r\n",
        "sentences = list(data['clean_tweet'])\r\n",
        "for sen in sentences:\r\n",
        "  X.append(sen)"
      ],
      "execution_count": 12,
      "outputs": []
    },
    {
      "cell_type": "code",
      "metadata": {
        "colab": {
          "base_uri": "https://localhost:8080/",
          "height": 35
        },
        "id": "PRh_cG-kMRbG",
        "outputId": "3811f9b2-282e-45b4-a4ef-f351547b6ebd"
      },
      "source": [
        "X[100]"
      ],
      "execution_count": 13,
      "outputs": [
        {
          "output_type": "execute_result",
          "data": {
            "application/vnd.google.colaboratory.intrinsic+json": {
              "type": "string"
            },
            "text/plain": [
              "' lmaooooooooooo nigga lt bitch want like depress shit foh'"
            ]
          },
          "metadata": {
            "tags": []
          },
          "execution_count": 13
        }
      ]
    },
    {
      "cell_type": "code",
      "metadata": {
        "id": "uQSuoOkHT3dO"
      },
      "source": [
        "# Split our data into a training set and a testing set\r\n",
        "\r\n",
        "\r\n",
        "y = np.array(data['class'])\r\n",
        "\r\n",
        "X_train, X_test, y_train, y_test = train_test_split(X, y, test_size=0.33, random_state=42)"
      ],
      "execution_count": 41,
      "outputs": []
    },
    {
      "cell_type": "markdown",
      "metadata": {
        "id": "-zbFOiy2N_l3"
      },
      "source": [
        "Number of training and testing samples"
      ]
    },
    {
      "cell_type": "code",
      "metadata": {
        "colab": {
          "base_uri": "https://localhost:8080/"
        },
        "id": "JLLv7iDEaKz3",
        "outputId": "4b7296cf-588b-46f9-b6b7-78958f1a52ef"
      },
      "source": [
        "print('# of Training Samples: {}'.format(len(X_train)))\r\n",
        "print('# of Test Samples: {}'.format(len(X_test)))"
      ],
      "execution_count": 15,
      "outputs": [
        {
          "output_type": "stream",
          "text": [
            "# of Training Samples: 16604\n",
            "# of Test Samples: 8179\n"
          ],
          "name": "stdout"
        }
      ]
    },
    {
      "cell_type": "code",
      "metadata": {
        "colab": {
          "base_uri": "https://localhost:8080/"
        },
        "id": "sqw-pFBXaZkd",
        "outputId": "f93c3bab-d738-450b-a586-f743b38ed9bb"
      },
      "source": [
        "num_classes = max(y_train) + 1\r\n",
        "print('# of Classes: {}'.format(num_classes))"
      ],
      "execution_count": 16,
      "outputs": [
        {
          "output_type": "stream",
          "text": [
            "# of Classes: 3\n"
          ],
          "name": "stdout"
        }
      ]
    },
    {
      "cell_type": "code",
      "metadata": {
        "id": "xOkdM_32l6q_"
      },
      "source": [
        "X_train, X_val, y_train, y_val = train_test_split(X_train, y_train, test_size=0.25, random_state=42)"
      ],
      "execution_count": 42,
      "outputs": []
    },
    {
      "cell_type": "markdown",
      "metadata": {
        "id": "NuWknNBHuvCz"
      },
      "source": [
        "## Preparing the Embedding Layer"
      ]
    },
    {
      "cell_type": "markdown",
      "metadata": {
        "id": "K-7zBOenx_GC"
      },
      "source": [
        "## calculating initial bias\r\n",
        "\r\n",
        "to encounter unbalanced dataset\r\n",
        "\r\n",
        "=> We have to use class weights, which increase the loss value inversely proportional to the frequency of the class.\r\n",
        "\r\n",
        "=> Using bias_intializer will make the model converge faster. This is done by taking log(corresponding class/ total - corresponding class)\r\n",
        "\r\n",
        "=> Applying weighted metrics in the model evaluation(train, validation and test)"
      ]
    },
    {
      "cell_type": "code",
      "metadata": {
        "id": "a-PZX0urac4G"
      },
      "source": [
        "#calculating initial bias\r\n",
        "total_count = len(X_train)\r\n",
        "\r\n",
        "groups = pd.DataFrame(y_train, columns = ['Assignment group'])\r\n",
        "group_count = groups['Assignment group'].value_counts().reset_index()\r\n",
        "group_count.sort_values('index', inplace=True)"
      ],
      "execution_count": 43,
      "outputs": []
    },
    {
      "cell_type": "code",
      "metadata": {
        "colab": {
          "base_uri": "https://localhost:8080/",
          "height": 136
        },
        "id": "QMa6ZV7bxWeA",
        "outputId": "47ba8468-6c01-4c19-fc00-507be690e8e2"
      },
      "source": [
        "group_count"
      ],
      "execution_count": 44,
      "outputs": [
        {
          "output_type": "execute_result",
          "data": {
            "text/html": [
              "<div>\n",
              "<style scoped>\n",
              "    .dataframe tbody tr th:only-of-type {\n",
              "        vertical-align: middle;\n",
              "    }\n",
              "\n",
              "    .dataframe tbody tr th {\n",
              "        vertical-align: top;\n",
              "    }\n",
              "\n",
              "    .dataframe thead th {\n",
              "        text-align: right;\n",
              "    }\n",
              "</style>\n",
              "<table border=\"1\" class=\"dataframe\">\n",
              "  <thead>\n",
              "    <tr style=\"text-align: right;\">\n",
              "      <th></th>\n",
              "      <th>index</th>\n",
              "      <th>Assignment group</th>\n",
              "    </tr>\n",
              "  </thead>\n",
              "  <tbody>\n",
              "    <tr>\n",
              "      <th>2</th>\n",
              "      <td>0</td>\n",
              "      <td>723</td>\n",
              "    </tr>\n",
              "    <tr>\n",
              "      <th>0</th>\n",
              "      <td>1</td>\n",
              "      <td>9655</td>\n",
              "    </tr>\n",
              "    <tr>\n",
              "      <th>1</th>\n",
              "      <td>2</td>\n",
              "      <td>2075</td>\n",
              "    </tr>\n",
              "  </tbody>\n",
              "</table>\n",
              "</div>"
            ],
            "text/plain": [
              "   index  Assignment group\n",
              "2      0               723\n",
              "0      1              9655\n",
              "1      2              2075"
            ]
          },
          "metadata": {
            "tags": []
          },
          "execution_count": 44
        }
      ]
    },
    {
      "cell_type": "code",
      "metadata": {
        "colab": {
          "base_uri": "https://localhost:8080/"
        },
        "id": "UUyUh9SyanA3",
        "outputId": "812e3fd7-ef21-4ac6-f775-dd39b68b8234"
      },
      "source": [
        "group_count['denominator'] = total_count - group_count['Assignment group'] \r\n",
        "group_count['initial bias'] = np.log(group_count['Assignment group'] / group_count['denominator'])\r\n",
        "initial_bias = np.array(group_count['initial bias'])\r\n",
        "initial_bias"
      ],
      "execution_count": 45,
      "outputs": [
        {
          "output_type": "execute_result",
          "data": {
            "text/plain": [
              "array([-2.78649572,  1.23857104, -1.60972703])"
            ]
          },
          "metadata": {
            "tags": []
          },
          "execution_count": 45
        }
      ]
    },
    {
      "cell_type": "code",
      "metadata": {
        "id": "nL7x6Go6KhGW"
      },
      "source": [
        "# integer encode sequences of words\r\n",
        "\r\n",
        "tokenizer = Tokenizer(num_words=5000)\r\n",
        "tokenizer.fit_on_texts(X_train)\r\n",
        "\r\n",
        "X_train = tokenizer.texts_to_sequences(X_train)\r\n",
        "X_val = tokenizer.texts_to_sequences(X_val)\r\n",
        "X_test = tokenizer.texts_to_sequences(X_test)"
      ],
      "execution_count": 46,
      "outputs": []
    },
    {
      "cell_type": "code",
      "metadata": {
        "id": "C4JcMLzcOXa6"
      },
      "source": [
        "from keras.preprocessing.sequence import pad_sequences\r\n",
        "\r\n",
        "# Adding 1 because of reserved 0 index\r\n",
        "vocab_size = len(tokenizer.word_index) + 1\r\n",
        "\r\n",
        "maxlen = 50\r\n",
        "\r\n",
        "\r\n",
        "#now use sequence padding to post append zeros inorder to equalize the sentence structure for all the records\r\n",
        "X_train = pad_sequences(X_train, padding='post', maxlen=maxlen)\r\n",
        "X_val = pad_sequences(X_val, padding='post', maxlen=maxlen)\r\n",
        "X_test = pad_sequences(X_test, padding='post', maxlen=maxlen)\r\n",
        "\r\n",
        "# Converts a class vector (integers) to binary class matrix\r\n",
        "y_train = keras.utils.to_categorical(y_train, 3)\r\n",
        "y_test = keras.utils.to_categorical(y_test, 3)\r\n",
        "y_val = keras.utils.to_categorical(y_val, 3)\r\n"
      ],
      "execution_count": 47,
      "outputs": []
    },
    {
      "cell_type": "code",
      "metadata": {
        "id": "JrlXkhGbkv3s"
      },
      "source": [
        "# Compute the weight of each class\r\n",
        "\r\n",
        "from sklearn.utils.class_weight import compute_class_weight\r\n",
        "\r\n",
        "y_integers = np.argmax(y_train, axis=1)\r\n",
        "class_weights = compute_class_weight('balanced', np.unique(y_integers), y_integers)\r\n",
        "d_class_weights = dict(enumerate(class_weights))\r\n",
        "\r\n",
        "y_integers = np.argmax(y_val, axis=1)\r\n",
        "class_weights = compute_class_weight('balanced', np.unique(y_integers), y_integers)\r\n",
        "d_class_vweights = dict(enumerate(class_weights))\r\n",
        "\r\n",
        "y_integers = np.argmax(y_test, axis=1)\r\n",
        "class_weights = compute_class_weight('balanced', np.unique(y_integers), y_integers)\r\n",
        "d_class_tweights = dict(enumerate(class_weights))\r\n",
        "\r\n"
      ],
      "execution_count": 48,
      "outputs": []
    },
    {
      "cell_type": "code",
      "metadata": {
        "colab": {
          "base_uri": "https://localhost:8080/"
        },
        "id": "693OsA1Kj4wa",
        "outputId": "0fd6bf3e-df22-46d6-d7ca-f9a848808f66"
      },
      "source": [
        "d_class_weights\r\n"
      ],
      "execution_count": 49,
      "outputs": [
        {
          "output_type": "execute_result",
          "data": {
            "text/plain": [
              "{0: 5.741355463347165, 1: 0.42993267736923874, 2: 2.0004819277108434}"
            ]
          },
          "metadata": {
            "tags": []
          },
          "execution_count": 49
        }
      ]
    },
    {
      "cell_type": "markdown",
      "metadata": {
        "id": "KX6hMvy_kVPD"
      },
      "source": [
        "For validation and test we need to add samplewise weights¶"
      ]
    },
    {
      "cell_type": "code",
      "metadata": {
        "id": "sDpH-bnZjtjp"
      },
      "source": [
        "#training dataset\r\n",
        "y_train_trans = np.argmax(y_train, axis=1)\r\n",
        "\r\n",
        "train_weight = []\r\n",
        "#calculate class weight for each sample in validation data\r\n",
        "for i in y_train_trans:\r\n",
        "  train_weight.append(d_class_weights[i])\r\n",
        "\r\n",
        "train_weights = np.array(train_weight)\r\n",
        "\r\n",
        "##validation dataset\r\n",
        "y_val_trans = np.argmax(y_val, axis=1)\r\n",
        "\r\n",
        "val_weight = []\r\n",
        "#calculate class weight for each sample in validation data\r\n",
        "for i in y_val_trans:\r\n",
        "  val_weight.append(d_class_vweights[i])\r\n",
        "\r\n",
        "val_weights = np.array(val_weight)\r\n",
        "\r\n",
        "#test dataset\r\n",
        "y_test_trans = np.argmax(y_test, axis=1)\r\n",
        "\r\n",
        "test_weight = []\r\n",
        "#calculate class weight for each sample in validation data\r\n",
        "for i in y_test_trans:\r\n",
        "  test_weight.append(d_class_tweights[i])\r\n",
        "\r\n",
        "test_weights = np.array(test_weight)"
      ],
      "execution_count": 69,
      "outputs": []
    },
    {
      "cell_type": "markdown",
      "metadata": {
        "id": "DOn4eqTG3KsD"
      },
      "source": [
        "## GloVe embeddings"
      ]
    },
    {
      "cell_type": "code",
      "metadata": {
        "id": "xDNnRNhTnHzg"
      },
      "source": [
        "# Import the GloVe embeddings\r\n",
        "\r\n",
        "from numpy import array\r\n",
        "from numpy import asarray\r\n",
        "from numpy import zeros\r\n",
        "\r\n",
        "''' use GloVe embeddings to create our feature matrix\r\n",
        "    you can find the txt file in the drive and download it. \r\n",
        "    or download from https://www.kaggle.com/bertcarremans/glovetwitter27b100dtxt \r\n",
        "    it is a document of pre-trained word vectors. '''\r\n",
        "\r\n",
        "embeddings_dictionary = dict()\r\n",
        "glove_file = open('/gdrive/MyDrive/career/master_in_france/course/AI_and_Big_Data_Project/glove.twitter.27B.100d.txt', encoding=\"utf8\")\r\n",
        "\r\n",
        "for line in glove_file:\r\n",
        "    records = line.split()\r\n",
        "    word = records[0]\r\n",
        "    vector_dimensions = asarray(records[1:], dtype='float32')\r\n",
        "    embeddings_dictionary [word] = vector_dimensions\r\n",
        "glove_file.close()"
      ],
      "execution_count": 50,
      "outputs": []
    },
    {
      "cell_type": "code",
      "metadata": {
        "id": "4JwL5hjpTKXe"
      },
      "source": [
        "from numpy import array\n",
        "from numpy import asarray\n",
        "from numpy import zeros\n",
        "\n",
        "''' use GloVe embeddings to create our feature matrix\n",
        "    you can find the txt file in the drive and download it. \n",
        "    or download from https://www.kaggle.com/bertcarremans/glovetwitter27b100dtxt \n",
        "    it is a document of pre-trained word vectors. '''\n",
        "\n",
        "embeddings_dictionary = dict()\n",
        "glove_file = open('/gdrive/MyDrive/career/master_in_france/course/AI_and_Big_Data_Project/glove.twitter.27B.100d.txt', encoding=\"utf8\")\n",
        "\n",
        "for line in glove_file:\n",
        "    records = line.split()\n",
        "    word = records[0]\n",
        "    vector_dimensions = asarray(records[1:], dtype='float32')\n",
        "    embeddings_dictionary [word] = vector_dimensions\n",
        "glove_file.close()"
      ],
      "execution_count": 26,
      "outputs": []
    },
    {
      "cell_type": "code",
      "metadata": {
        "id": "vFSmUGdOnYyk"
      },
      "source": [
        "# Create an embedding matrix \r\n",
        "# Rows : the index of the word in the corpus\r\n",
        "# Columns : 100 (each column will contain the GloVe word embeddings for the words in the corpus)\r\n",
        "embedding_matrix = zeros((vocab_size, 100))\r\n",
        "for word, index in tokenizer.word_index.items():\r\n",
        "    embedding_vector = embeddings_dictionary.get(word)\r\n",
        "    if embedding_vector is not None:\r\n",
        "        embedding_matrix[index] = embedding_vector"
      ],
      "execution_count": 51,
      "outputs": []
    },
    {
      "cell_type": "code",
      "metadata": {
        "colab": {
          "base_uri": "https://localhost:8080/"
        },
        "id": "fWgqSZzEnxuE",
        "outputId": "e2fb4be0-fc74-402e-bd03-61823c5f5678"
      },
      "source": [
        "embedding_matrix.shape"
      ],
      "execution_count": 52,
      "outputs": [
        {
          "output_type": "execute_result",
          "data": {
            "text/plain": [
              "(10801, 100)"
            ]
          },
          "metadata": {
            "tags": []
          },
          "execution_count": 52
        }
      ]
    },
    {
      "cell_type": "markdown",
      "metadata": {
        "id": "jbDCZaR4vdla"
      },
      "source": [
        "## Text Classification with Simple Neural Network"
      ]
    },
    {
      "cell_type": "code",
      "metadata": {
        "id": "dQXRXIFnoGW9",
        "colab": {
          "base_uri": "https://localhost:8080/"
        },
        "outputId": "bb280a75-1608-45da-c861-0f62652c2b84"
      },
      "source": [
        "model = Sequential()\r\n",
        "embedding_layer = Embedding(vocab_size, 100, weights=[embedding_matrix], input_length=maxlen , trainable=False)\r\n",
        "model.add(embedding_layer)\r\n",
        "\r\n",
        "model.add(Flatten())\r\n",
        "model.add(Dense(3, activation='softmax', bias_initializer = tf.keras.initializers.Constant(initial_bias)))\r\n",
        "\r\n",
        "model.summary()\r\n"
      ],
      "execution_count": 74,
      "outputs": [
        {
          "output_type": "stream",
          "text": [
            "Model: \"sequential_5\"\n",
            "_________________________________________________________________\n",
            "Layer (type)                 Output Shape              Param #   \n",
            "=================================================================\n",
            "embedding_5 (Embedding)      (None, 50, 100)           1080100   \n",
            "_________________________________________________________________\n",
            "flatten_3 (Flatten)          (None, 5000)              0         \n",
            "_________________________________________________________________\n",
            "dense_5 (Dense)              (None, 3)                 15003     \n",
            "=================================================================\n",
            "Total params: 1,095,103\n",
            "Trainable params: 15,003\n",
            "Non-trainable params: 1,080,100\n",
            "_________________________________________________________________\n"
          ],
          "name": "stdout"
        }
      ]
    },
    {
      "cell_type": "code",
      "metadata": {
        "id": "Tn_u8vACoT_y"
      },
      "source": [
        "#model.compile(optimizer='adam', loss='binary_crossentropy', metrics=[km.precision(), km.recall()])\r\n",
        "model.compile(optimizer='adam', loss='categorical_crossentropy', metrics=['accuracy'])\r\n",
        "\r\n"
      ],
      "execution_count": 76,
      "outputs": []
    },
    {
      "cell_type": "code",
      "metadata": {
        "colab": {
          "base_uri": "https://localhost:8080/"
        },
        "id": "cdhktDQ0oW5p",
        "outputId": "834ea2d0-75fc-46f6-d4a3-d9fe1a62ffb1"
      },
      "source": [
        "history = model.fit(X_train, y_train, batch_size=128, epochs=30, verbose=1,validation_data =(X_val, y_val))"
      ],
      "execution_count": 77,
      "outputs": [
        {
          "output_type": "stream",
          "text": [
            "Epoch 1/30\n",
            "98/98 [==============================] - 1s 5ms/step - loss: 0.6641 - accuracy: 0.7806 - val_loss: 0.4771 - val_accuracy: 0.8215\n",
            "Epoch 2/30\n",
            "98/98 [==============================] - 0s 4ms/step - loss: 0.4267 - accuracy: 0.8405 - val_loss: 0.4290 - val_accuracy: 0.8420\n",
            "Epoch 3/30\n",
            "98/98 [==============================] - 0s 4ms/step - loss: 0.3714 - accuracy: 0.8628 - val_loss: 0.4126 - val_accuracy: 0.8504\n",
            "Epoch 4/30\n",
            "98/98 [==============================] - 0s 4ms/step - loss: 0.3466 - accuracy: 0.8701 - val_loss: 0.4058 - val_accuracy: 0.8562\n",
            "Epoch 5/30\n",
            "98/98 [==============================] - 0s 4ms/step - loss: 0.3377 - accuracy: 0.8782 - val_loss: 0.4019 - val_accuracy: 0.8571\n",
            "Epoch 6/30\n",
            "98/98 [==============================] - 0s 4ms/step - loss: 0.3181 - accuracy: 0.8803 - val_loss: 0.4001 - val_accuracy: 0.8583\n",
            "Epoch 7/30\n",
            "98/98 [==============================] - 0s 4ms/step - loss: 0.2966 - accuracy: 0.8889 - val_loss: 0.3991 - val_accuracy: 0.8579\n",
            "Epoch 8/30\n",
            "98/98 [==============================] - 0s 4ms/step - loss: 0.3005 - accuracy: 0.8854 - val_loss: 0.3990 - val_accuracy: 0.8562\n",
            "Epoch 9/30\n",
            "98/98 [==============================] - 0s 4ms/step - loss: 0.2898 - accuracy: 0.8909 - val_loss: 0.3992 - val_accuracy: 0.8586\n",
            "Epoch 10/30\n",
            "98/98 [==============================] - 0s 4ms/step - loss: 0.2893 - accuracy: 0.8925 - val_loss: 0.4003 - val_accuracy: 0.8591\n",
            "Epoch 11/30\n",
            "98/98 [==============================] - 0s 4ms/step - loss: 0.2862 - accuracy: 0.8945 - val_loss: 0.4023 - val_accuracy: 0.8579\n",
            "Epoch 12/30\n",
            "98/98 [==============================] - 0s 4ms/step - loss: 0.2750 - accuracy: 0.8993 - val_loss: 0.4053 - val_accuracy: 0.8610\n",
            "Epoch 13/30\n",
            "98/98 [==============================] - 0s 4ms/step - loss: 0.2660 - accuracy: 0.8989 - val_loss: 0.4061 - val_accuracy: 0.8574\n",
            "Epoch 14/30\n",
            "98/98 [==============================] - 0s 4ms/step - loss: 0.2712 - accuracy: 0.8998 - val_loss: 0.4076 - val_accuracy: 0.8612\n",
            "Epoch 15/30\n",
            "98/98 [==============================] - 0s 4ms/step - loss: 0.2707 - accuracy: 0.9017 - val_loss: 0.4091 - val_accuracy: 0.8600\n",
            "Epoch 16/30\n",
            "98/98 [==============================] - 0s 4ms/step - loss: 0.2642 - accuracy: 0.9017 - val_loss: 0.4112 - val_accuracy: 0.8586\n",
            "Epoch 17/30\n",
            "98/98 [==============================] - 0s 4ms/step - loss: 0.2608 - accuracy: 0.9035 - val_loss: 0.4178 - val_accuracy: 0.8627\n",
            "Epoch 18/30\n",
            "98/98 [==============================] - 0s 4ms/step - loss: 0.2539 - accuracy: 0.9049 - val_loss: 0.4170 - val_accuracy: 0.8624\n",
            "Epoch 19/30\n",
            "98/98 [==============================] - 1s 6ms/step - loss: 0.2521 - accuracy: 0.9071 - val_loss: 0.4184 - val_accuracy: 0.8617\n",
            "Epoch 20/30\n",
            "98/98 [==============================] - 0s 4ms/step - loss: 0.2513 - accuracy: 0.9057 - val_loss: 0.4195 - val_accuracy: 0.8586\n",
            "Epoch 21/30\n",
            "98/98 [==============================] - 0s 4ms/step - loss: 0.2367 - accuracy: 0.9131 - val_loss: 0.4211 - val_accuracy: 0.8583\n",
            "Epoch 22/30\n",
            "98/98 [==============================] - 0s 4ms/step - loss: 0.2561 - accuracy: 0.9061 - val_loss: 0.4234 - val_accuracy: 0.8588\n",
            "Epoch 23/30\n",
            "98/98 [==============================] - 0s 4ms/step - loss: 0.2478 - accuracy: 0.9078 - val_loss: 0.4266 - val_accuracy: 0.8569\n",
            "Epoch 24/30\n",
            "98/98 [==============================] - 0s 4ms/step - loss: 0.2411 - accuracy: 0.9121 - val_loss: 0.4300 - val_accuracy: 0.8615\n",
            "Epoch 25/30\n",
            "98/98 [==============================] - 0s 4ms/step - loss: 0.2431 - accuracy: 0.9117 - val_loss: 0.4318 - val_accuracy: 0.8624\n",
            "Epoch 26/30\n",
            "98/98 [==============================] - 0s 4ms/step - loss: 0.2396 - accuracy: 0.9142 - val_loss: 0.4331 - val_accuracy: 0.8600\n",
            "Epoch 27/30\n",
            "98/98 [==============================] - 0s 4ms/step - loss: 0.2383 - accuracy: 0.9133 - val_loss: 0.4349 - val_accuracy: 0.8605\n",
            "Epoch 28/30\n",
            "98/98 [==============================] - 0s 4ms/step - loss: 0.2390 - accuracy: 0.9135 - val_loss: 0.4381 - val_accuracy: 0.8617\n",
            "Epoch 29/30\n",
            "98/98 [==============================] - 0s 4ms/step - loss: 0.2379 - accuracy: 0.9141 - val_loss: 0.4388 - val_accuracy: 0.8579\n",
            "Epoch 30/30\n",
            "98/98 [==============================] - 0s 4ms/step - loss: 0.2291 - accuracy: 0.9180 - val_loss: 0.4416 - val_accuracy: 0.8617\n"
          ],
          "name": "stdout"
        }
      ]
    },
    {
      "cell_type": "code",
      "metadata": {
        "colab": {
          "base_uri": "https://localhost:8080/"
        },
        "id": "9h7SvQ_IrtDS",
        "outputId": "de0d2205-6387-4534-cb85-e5fe1a262620"
      },
      "source": [
        "score = model.evaluate(X_test, y_test, verbose=1)"
      ],
      "execution_count": 78,
      "outputs": [
        {
          "output_type": "stream",
          "text": [
            "256/256 [==============================] - 1s 2ms/step - loss: 0.4268 - accuracy: 0.8561\n"
          ],
          "name": "stdout"
        }
      ]
    },
    {
      "cell_type": "code",
      "metadata": {
        "colab": {
          "base_uri": "https://localhost:8080/"
        },
        "id": "lt0otmuarwCW",
        "outputId": "26d8bc65-5b8b-4c0e-b7d4-5f9f89eae09e"
      },
      "source": [
        "print(\"Test Score:\", score[0])\r\n",
        "print(\"Test Accuracy:\", score[1])"
      ],
      "execution_count": 79,
      "outputs": [
        {
          "output_type": "stream",
          "text": [
            "Test Score: 0.42680880427360535\n",
            "Test Accuracy: 0.8560948967933655\n"
          ],
          "name": "stdout"
        }
      ]
    },
    {
      "cell_type": "code",
      "metadata": {
        "colab": {
          "base_uri": "https://localhost:8080/",
          "height": 573
        },
        "id": "WPANW10lsMgn",
        "outputId": "564be5cd-f4a3-4c46-e33e-59dcf6636465"
      },
      "source": [
        "plt.plot(history.history['accuracy'])\r\n",
        "plt.plot(history.history['val_accuracy'])\r\n",
        "\r\n",
        "plt.title('model accuracy')\r\n",
        "plt.ylabel('accuracy')\r\n",
        "plt.xlabel('epoch')\r\n",
        "plt.legend(['train','test'], loc='upper left')\r\n",
        "plt.show()\r\n",
        "\r\n",
        "plt.plot(history.history['loss'])\r\n",
        "plt.plot(history.history['val_loss'])\r\n",
        "\r\n",
        "plt.title('model loss')\r\n",
        "plt.ylabel('loss')\r\n",
        "plt.xlabel('epoch')\r\n",
        "plt.legend(['train','test'], loc='upper left')\r\n",
        "plt.show()"
      ],
      "execution_count": 80,
      "outputs": [
        {
          "output_type": "display_data",
          "data": {
            "image/png": "[encoded data removed]",
            "text/plain": [
              "<Figure size 432x288 with 1 Axes>"
            ]
          },
          "metadata": {
            "tags": [],
            "needs_background": "light"
          }
        },
        {
          "output_type": "display_data",
          "data": {
            "image/png": "[encoded data removed]",
            "text/plain": [
              "<Figure size 432x288 with 1 Axes>"
            ]
          },
          "metadata": {
            "tags": [],
            "needs_background": "light"
          }
        }
      ]
    },
    {
      "cell_type": "code",
      "metadata": {
        "id": "7BYw3AxPZ1Zd"
      },
      "source": [
        ""
      ],
      "execution_count": 59,
      "outputs": []
    },
    {
      "cell_type": "markdown",
      "metadata": {
        "id": "Js3L3FLOtXpb"
      },
      "source": [
        "## Text Classification with Recurrent Neural Network (LSTM)"
      ]
    },
    {
      "cell_type": "code",
      "metadata": {
        "colab": {
          "base_uri": "https://localhost:8080/"
        },
        "id": "vvDwPO7GsnB-",
        "outputId": "77a66a7c-7b89-4442-b17c-89d3c0942d42"
      },
      "source": [
        "model = Sequential()\r\n",
        "embedding_layer = Embedding(vocab_size, 100, weights=[embedding_matrix], input_length=maxlen , trainable=False)\r\n",
        "model.add(embedding_layer)\r\n",
        "model.add(LSTM(128))\r\n",
        "\r\n",
        "model.add(Dense(3, activation='softmax', bias_initializer = tf.keras.initializers.Constant(initial_bias)))\r\n",
        "model.compile(optimizer='adam', loss='categorical_crossentropy', metrics=['acc'])\r\n",
        "\r\n",
        "print(model.summary())"
      ],
      "execution_count": 81,
      "outputs": [
        {
          "output_type": "stream",
          "text": [
            "Model: \"sequential_6\"\n",
            "_________________________________________________________________\n",
            "Layer (type)                 Output Shape              Param #   \n",
            "=================================================================\n",
            "embedding_6 (Embedding)      (None, 50, 100)           1080100   \n",
            "_________________________________________________________________\n",
            "lstm_4 (LSTM)                (None, 128)               117248    \n",
            "_________________________________________________________________\n",
            "dense_6 (Dense)              (None, 3)                 387       \n",
            "=================================================================\n",
            "Total params: 1,197,735\n",
            "Trainable params: 117,635\n",
            "Non-trainable params: 1,080,100\n",
            "_________________________________________________________________\n",
            "None\n"
          ],
          "name": "stdout"
        }
      ]
    },
    {
      "cell_type": "code",
      "metadata": {
        "colab": {
          "base_uri": "https://localhost:8080/"
        },
        "id": "i0v8F6eTtRJ_",
        "outputId": "211966b9-ac99-4de6-dfb8-874ff54eefd9"
      },
      "source": [
        "history = model.fit(X_train, y_train, batch_size=128, epochs=6, verbose=1, validation_data =(X_val, y_val))\r\n",
        "\r\n",
        "score = model.evaluate(X_test, y_test, verbose=1)"
      ],
      "execution_count": 82,
      "outputs": [
        {
          "output_type": "stream",
          "text": [
            "Epoch 1/6\n",
            "98/98 [==============================] - 2s 12ms/step - loss: 0.5993 - acc: 0.8132 - val_loss: 0.4023 - val_acc: 0.8834\n",
            "Epoch 2/6\n",
            "98/98 [==============================] - 1s 8ms/step - loss: 0.3838 - acc: 0.8864 - val_loss: 0.3515 - val_acc: 0.8950\n",
            "Epoch 3/6\n",
            "98/98 [==============================] - 1s 8ms/step - loss: 0.3259 - acc: 0.9014 - val_loss: 0.3968 - val_acc: 0.8677\n",
            "Epoch 4/6\n",
            "98/98 [==============================] - 1s 8ms/step - loss: 0.2998 - acc: 0.9022 - val_loss: 0.3183 - val_acc: 0.8904\n",
            "Epoch 5/6\n",
            "98/98 [==============================] - 1s 8ms/step - loss: 0.2819 - acc: 0.9054 - val_loss: 0.3202 - val_acc: 0.9032\n",
            "Epoch 6/6\n",
            "98/98 [==============================] - 1s 8ms/step - loss: 0.2589 - acc: 0.9141 - val_loss: 0.2968 - val_acc: 0.8901\n",
            "256/256 [==============================] - 1s 3ms/step - loss: 0.3028 - acc: 0.8911\n"
          ],
          "name": "stdout"
        }
      ]
    },
    {
      "cell_type": "code",
      "metadata": {
        "colab": {
          "base_uri": "https://localhost:8080/"
        },
        "id": "jMORhPQmtpVO",
        "outputId": "a79e9577-fe3b-4eab-cea3-5776380eece0"
      },
      "source": [
        "print(\"Test Score:\", score[0])\r\n",
        "print(\"Test Accuracy:\", score[1])"
      ],
      "execution_count": 83,
      "outputs": [
        {
          "output_type": "stream",
          "text": [
            "Test Score: 0.3028392791748047\n",
            "Test Accuracy: 0.8910624980926514\n"
          ],
          "name": "stdout"
        }
      ]
    },
    {
      "cell_type": "code",
      "metadata": {
        "colab": {
          "base_uri": "https://localhost:8080/",
          "height": 573
        },
        "id": "TdcycdBItrdj",
        "outputId": "232c1ecc-91ee-458c-cbee-c7d6c4a33cca"
      },
      "source": [
        "plt.plot(history.history['acc'])\r\n",
        "plt.plot(history.history['val_acc'])\r\n",
        "\r\n",
        "plt.title('model accuracy')\r\n",
        "plt.ylabel('accuracy')\r\n",
        "plt.xlabel('epoch')\r\n",
        "plt.legend(['train','test'], loc='upper left')\r\n",
        "plt.show()\r\n",
        "\r\n",
        "plt.plot(history.history['loss'])\r\n",
        "plt.plot(history.history['val_loss'])\r\n",
        "\r\n",
        "plt.title('model loss')\r\n",
        "plt.ylabel('loss')\r\n",
        "plt.xlabel('epoch')\r\n",
        "plt.legend(['train','test'], loc='upper left')\r\n",
        "plt.show()"
      ],
      "execution_count": 84,
      "outputs": [
        {
          "output_type": "display_data",
          "data": {
            "image/png": "[encoded data removed]",
            "text/plain": [
              "<Figure size 432x288 with 1 Axes>"
            ]
          },
          "metadata": {
            "tags": [],
            "needs_background": "light"
          }
        },
        {
          "output_type": "display_data",
          "data": {
            "image/png": "[encoded data removed]",
            "text/plain": [
              "<Figure size 432x288 with 1 Axes>"
            ]
          },
          "metadata": {
            "tags": [],
            "needs_background": "light"
          }
        }
      ]
    },
    {
      "cell_type": "markdown",
      "metadata": {
        "id": "JCd8zJ-Kte_5"
      },
      "source": [
        "\r\n",
        "\r\n",
        "When the input is heavily imbalanced.\r\n",
        "\r\n",
        "=> We have to use class weights, which increase the loss value inversely proportional to the frequency of the class.\r\n",
        "\r\n",
        "=> Using bias_intializer will make the model converge faster. This is done by taking log(corresponding class/ total - corresponding class)\r\n",
        "\r\n",
        "=> Applying weighted metrics in the model evaluation(train, validation and test)\r\n",
        "\r\n",
        "https://www.analyticsvidhya.com/blog/2020/11/handling-imbalanced-data-machine-learning-computer-vision-and-nlp/\r\n",
        "\r\n",
        "https://github.com/NandhiniN85/Class-Imbalancing/blob/main/English_raw200_model_execution.ipynb"
      ]
    },
    {
      "cell_type": "code",
      "metadata": {
        "id": "7P7wTHwSqE1C"
      },
      "source": [
        "from tensorflow.keras.metrics import Precision, Recall, AUC, CategoricalAccuracy\r\n",
        "\r\n",
        "METRICS = [      \r\n",
        "      Precision(name='precision'),\r\n",
        "      Recall(name='recall'),\r\n",
        "      AUC(name='auc'),\r\n",
        "      CategoricalAccuracy(name='accuracy')\r\n",
        "]"
      ],
      "execution_count": 85,
      "outputs": []
    },
    {
      "cell_type": "code",
      "metadata": {
        "id": "z_b9QfHIqG0n",
        "colab": {
          "base_uri": "https://localhost:8080/"
        },
        "outputId": "e1f60022-c3dc-4c7c-b5d1-5a070393b4f1"
      },
      "source": [
        "from tensorflow.keras.callbacks import ModelCheckpoint, ReduceLROnPlateau\r\n",
        "from tensorflow.keras.layers import Embedding, LSTM, Bidirectional, Flatten, Dense\r\n",
        "\r\n",
        "model = Sequential()          #Defining a sequential layer\r\n",
        "embedding_layer = Embedding(vocab_size, 100, weights=[embedding_matrix], input_length=maxlen , trainable=False)\r\n",
        "model.add(embedding_layer)\r\n",
        "model.add(Bidirectional(LSTM(units=100, dropout=0.2))) #LSTM return sequences\r\n",
        "model.add(Flatten())\r\n",
        "\r\n",
        "#!!!! IMPORTANT !!!!\r\n",
        "#can test with both giving initial bias and without giving initial bias\r\n",
        "\r\n",
        "model.add(Dense(3, activation='softmax', bias_initializer = tf.keras.initializers.Constant(initial_bias)))\r\n",
        "#model.add(Dense(1, activation='softmax'))\r\n",
        "model.summary()\r\n",
        "\r\n"
      ],
      "execution_count": 92,
      "outputs": [
        {
          "output_type": "stream",
          "text": [
            "Model: \"sequential_9\"\n",
            "_________________________________________________________________\n",
            "Layer (type)                 Output Shape              Param #   \n",
            "=================================================================\n",
            "embedding_9 (Embedding)      (None, 50, 100)           1080100   \n",
            "_________________________________________________________________\n",
            "bidirectional_3 (Bidirection (None, 200)               160800    \n",
            "_________________________________________________________________\n",
            "flatten_5 (Flatten)          (None, 200)               0         \n",
            "_________________________________________________________________\n",
            "dense_9 (Dense)              (None, 3)                 603       \n",
            "=================================================================\n",
            "Total params: 1,241,503\n",
            "Trainable params: 161,403\n",
            "Non-trainable params: 1,080,100\n",
            "_________________________________________________________________\n"
          ],
          "name": "stdout"
        }
      ]
    },
    {
      "cell_type": "code",
      "metadata": {
        "id": "oTGZ-RlQm6DY"
      },
      "source": [
        ""
      ],
      "execution_count": 92,
      "outputs": []
    },
    {
      "cell_type": "code",
      "metadata": {
        "id": "3DldjQhLjW9o"
      },
      "source": [
        "model.compile(optimizer=\"Adam\", loss=\"categorical_crossentropy\", weighted_metrics=[METRICS])"
      ],
      "execution_count": 93,
      "outputs": []
    },
    {
      "cell_type": "markdown",
      "metadata": {
        "id": "fgcmxZ90ygXa"
      },
      "source": [
        ""
      ]
    },
    {
      "cell_type": "code",
      "metadata": {
        "id": "llHF8ZTkuC9E"
      },
      "source": [
        ""
      ],
      "execution_count": 93,
      "outputs": []
    },
    {
      "cell_type": "code",
      "metadata": {
        "id": "5HK247BtkI47"
      },
      "source": [
        "checkpoint = ModelCheckpoint('model-{epoch:03d}-{val_accuracy:03f}.h5', verbose=1, monitor='val_accuracy',save_best_only=True, mode='auto') \r\n",
        "reduceLoss = ReduceLROnPlateau(monitor='val_loss', factor=0.2,patience=2, min_lr=0.0001)"
      ],
      "execution_count": 94,
      "outputs": []
    },
    {
      "cell_type": "code",
      "metadata": {
        "colab": {
          "base_uri": "https://localhost:8080/"
        },
        "id": "cM9NMsKdj-al",
        "outputId": "4ef1b871-7a0d-4931-d0bd-c8aaa874d5ce"
      },
      "source": [
        "\r\n",
        "history = model.fit(X_train, y_train, batch_size=32, class_weight = d_class_weights, epochs=8,callbacks=[checkpoint,reduceLoss],validation_data =(X_val, y_val, val_weights), verbose=1)"
      ],
      "execution_count": 95,
      "outputs": [
        {
          "output_type": "stream",
          "text": [
            "Epoch 1/8\n",
            "390/390 [==============================] - 10s 18ms/step - loss: 0.9784 - precision: 0.6241 - recall: 0.5049 - auc: 0.7540 - accuracy: 0.5889 - val_loss: 0.5704 - val_precision: 0.7886 - val_recall: 0.7548 - val_auc: 0.9114 - val_accuracy: 0.7739\n",
            "\n",
            "Epoch 00001: val_accuracy improved from -inf to 0.77388, saving model to model-001-0.773880.h5\n",
            "Epoch 2/8\n",
            "390/390 [==============================] - 5s 14ms/step - loss: 0.5268 - precision: 0.8027 - recall: 0.7705 - auc: 0.9247 - accuracy: 0.7871 - val_loss: 0.5331 - val_precision: 0.8116 - val_recall: 0.7770 - val_auc: 0.9220 - val_accuracy: 0.7975\n",
            "\n",
            "Epoch 00002: val_accuracy improved from 0.77388 to 0.79753, saving model to model-002-0.797534.h5\n",
            "Epoch 3/8\n",
            "390/390 [==============================] - 6s 15ms/step - loss: 0.5006 - precision: 0.8114 - recall: 0.7795 - auc: 0.9334 - accuracy: 0.7954 - val_loss: 0.4978 - val_precision: 0.8184 - val_recall: 0.7790 - val_auc: 0.9321 - val_accuracy: 0.8021\n",
            "\n",
            "Epoch 00003: val_accuracy improved from 0.79753 to 0.80205, saving model to model-003-0.802054.h5\n",
            "Epoch 4/8\n",
            "390/390 [==============================] - 6s 14ms/step - loss: 0.4376 - precision: 0.8385 - recall: 0.8093 - auc: 0.9482 - accuracy: 0.8266 - val_loss: 0.4842 - val_precision: 0.8229 - val_recall: 0.8062 - val_auc: 0.9353 - val_accuracy: 0.8168\n",
            "\n",
            "Epoch 00004: val_accuracy improved from 0.80205 to 0.81680, saving model to model-004-0.816796.h5\n",
            "Epoch 5/8\n",
            "390/390 [==============================] - 6s 14ms/step - loss: 0.3985 - precision: 0.8581 - recall: 0.8351 - auc: 0.9545 - accuracy: 0.8480 - val_loss: 0.4759 - val_precision: 0.8231 - val_recall: 0.8028 - val_auc: 0.9372 - val_accuracy: 0.8130\n",
            "\n",
            "Epoch 00005: val_accuracy did not improve from 0.81680\n",
            "Epoch 6/8\n",
            "390/390 [==============================] - 6s 14ms/step - loss: 0.3891 - precision: 0.8550 - recall: 0.8333 - auc: 0.9584 - accuracy: 0.8463 - val_loss: 0.5011 - val_precision: 0.8146 - val_recall: 0.7995 - val_auc: 0.9321 - val_accuracy: 0.8062\n",
            "\n",
            "Epoch 00006: val_accuracy did not improve from 0.81680\n",
            "Epoch 7/8\n",
            "390/390 [==============================] - 6s 14ms/step - loss: 0.3653 - precision: 0.8621 - recall: 0.8450 - auc: 0.9624 - accuracy: 0.8516 - val_loss: 0.4936 - val_precision: 0.8159 - val_recall: 0.8035 - val_auc: 0.9379 - val_accuracy: 0.8109\n",
            "\n",
            "Epoch 00007: val_accuracy did not improve from 0.81680\n",
            "Epoch 8/8\n",
            "390/390 [==============================] - 6s 14ms/step - loss: 0.3007 - precision: 0.8865 - recall: 0.8693 - auc: 0.9719 - accuracy: 0.8797 - val_loss: 0.4961 - val_precision: 0.8167 - val_recall: 0.8023 - val_auc: 0.9378 - val_accuracy: 0.8115\n",
            "\n",
            "Epoch 00008: val_accuracy did not improve from 0.81680\n"
          ],
          "name": "stdout"
        }
      ]
    },
    {
      "cell_type": "code",
      "metadata": {
        "id": "dv7QPUknkXX7",
        "colab": {
          "base_uri": "https://localhost:8080/",
          "height": 573
        },
        "outputId": "218149fe-335d-450f-917a-b0a466ef9c1a"
      },
      "source": [
        "plt.plot(history.history['accuracy'])\r\n",
        "plt.plot(history.history['val_accuracy'])\r\n",
        "\r\n",
        "plt.title('model accuracy')\r\n",
        "plt.ylabel('accuracy')\r\n",
        "plt.xlabel('epoch')\r\n",
        "plt.legend(['train','test'], loc='upper left')\r\n",
        "plt.show()\r\n",
        "\r\n",
        "plt.plot(history.history['loss'])\r\n",
        "plt.plot(history.history['val_loss'])\r\n",
        "\r\n",
        "plt.title('model loss')\r\n",
        "plt.ylabel('loss')\r\n",
        "plt.xlabel('epoch')\r\n",
        "plt.legend(['train','test'], loc='upper left')\r\n",
        "plt.show()"
      ],
      "execution_count": 96,
      "outputs": [
        {
          "output_type": "display_data",
          "data": {
            "image/png": "[encoded data removed]",
            "text/plain": [
              "<Figure size 432x288 with 1 Axes>"
            ]
          },
          "metadata": {
            "tags": [],
            "needs_background": "light"
          }
        },
        {
          "output_type": "display_data",
          "data": {
            "image/png": "[encoded data removed]",
            "text/plain": [
              "<Figure size 432x288 with 1 Axes>"
            ]
          },
          "metadata": {
            "tags": [],
            "needs_background": "light"
          }
        }
      ]
    },
    {
      "cell_type": "code",
      "metadata": {
        "id": "LAkqZNAXyw8_"
      },
      "source": [
        ""
      ],
      "execution_count": null,
      "outputs": []
    }
  ]
}